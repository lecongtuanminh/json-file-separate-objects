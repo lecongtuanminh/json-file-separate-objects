{
 "cells": [
  {
   "cell_type": "code",
   "execution_count": 1,
   "metadata": {},
   "outputs": [
    {
     "name": "stdout",
     "output_type": "stream",
     "text": [
      "Started Reading JSON file which contains multiple JSON document\n",
      "Printing each JSON Decoded Object\n",
      "file giaovien.json  was created\n",
      "file monhoc.json  was created\n",
      "file lophoc.json  was created\n",
      "file danhsachrangbuoc.json  was created\n",
      "file tiethoc.json  was created\n",
      "file tietnghigiaovien.json  was created\n",
      "file tietghep.json  was created\n",
      "file sotietmonhoc.json  was created\n",
      "file phonghoc.json  was created\n",
      "file phong_mon_lop.json  was created\n",
      "file phancongchuyenmon.json  was created\n",
      "file giaovienmonlop.json  was created\n",
      "file giaovienchuyenmon.json  was created\n",
      "file tietcodinh.json  was created\n",
      "file sotiettrongbuoi.json  was created\n",
      "file rangbuocdangkybuoitietnghigv.json  was created\n",
      "file caphoc.json  was created\n",
      "file thututiet.json  was created\n",
      "file rangbuoccaptietxepliennhau.json  was created\n",
      "file rangbuocdangkytietnghilop.json  was created\n",
      "file rangbuoctiettranh.json  was created\n",
      "file rangbuocsotiet5sangtiet1chieu.json  was created\n",
      "file rangbuoctietgvbuocphaico.json  was created\n",
      "file rangbuoctiethopcuato.json  was created\n",
      "file rangbuoctranh2moncungbuoi.json  was created\n",
      "file diemtruong.json  was created\n",
      "file truycap.json  was created\n",
      "file rangbuocmoncachngay.json  was created\n",
      "file rangbuocmonsangchieu.json  was created\n",
      "file rangbuoctietnghiloptudong.json  was created\n",
      "file rangbuoctietnghimon.json  was created\n",
      "file hocmay.json  was created\n",
      "file rangbuocsotiettoida.json  was created\n",
      "file rangbuocnhommonhoc.json  was created\n",
      "file thongtintruong.json  was created\n",
      "file lophoc_memory.json  was created\n",
      "file monhoc_memory.json  was created\n",
      "file dulieu_memory.json  was created\n",
      "file thoikhoabieu_memory.json  was created\n",
      "file monhoc_ghinho.json  was created\n",
      "40  file(s) were created\n"
     ]
    }
   ],
   "source": [
    "import json\n",
    "\n",
    "allList = []\n",
    "print(\"Started Reading JSON file which contains multiple JSON document\")\n",
    "with open('dulieu.json') as f:\n",
    "    for jsonObj in f:\n",
    "        allDict = json.loads(jsonObj)\n",
    "        allList.append(allDict)\n",
    "\n",
    "print(\"Printing each JSON Decoded Object\")\n",
    "count = 0\n",
    "for ass in allList:\n",
    "    for x in ass:\n",
    "           with open('{}.json'.format(x), 'w') as fp:\n",
    "                json.dump(ass[x],fp)\n",
    "                print('file {}.json '.format(x) ,'was created')\n",
    "                count+=1\n",
    "print(count,' file(s) were created')\n",
    "        \n",
    "     \n",
    "    "
   ]
  },
  {
   "cell_type": "code",
   "execution_count": null,
   "metadata": {},
   "outputs": [],
   "source": []
  }
 ],
 "metadata": {
  "kernelspec": {
   "display_name": "Python 3",
   "language": "python",
   "name": "python3"
  },
  "language_info": {
   "codemirror_mode": {
    "name": "ipython",
    "version": 3
   },
   "file_extension": ".py",
   "mimetype": "text/x-python",
   "name": "python",
   "nbconvert_exporter": "python",
   "pygments_lexer": "ipython3",
   "version": "3.8.5"
  }
 },
 "nbformat": 4,
 "nbformat_minor": 4
}
